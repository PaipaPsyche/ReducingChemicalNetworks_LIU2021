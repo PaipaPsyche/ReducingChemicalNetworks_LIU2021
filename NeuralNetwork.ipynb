{
 "cells": [
  {
   "cell_type": "code",
   "execution_count": 32,
   "metadata": {},
   "outputs": [],
   "source": [
    "import pandas as pd\n",
    "import numpy as np\n",
    "import os\n",
    "from sklearn.model_selection import train_test_split\n",
    "\n",
    "\n",
    "\n",
    "import os\n",
    "\n",
    "import torch\n",
    "import torchvision\n",
    "from torch import nn\n",
    "from torch.autograd import Variable\n",
    "from torch.utils.data import DataLoader\n",
    "from torchvision import transforms\n",
    "from torchvision.datasets import MNIST\n",
    "from torchvision.utils import save_image"
   ]
  },
  {
   "cell_type": "code",
   "execution_count": 33,
   "metadata": {},
   "outputs": [],
   "source": [
    "sample_batch = \"nsample_1107\"\n",
    "sample_dir = \"CHIMES_0.6/Out/{}/{}_csv\".format(sample_batch,sample_batch)\n",
    "\n",
    "def get_vecs(df,N):\n",
    "    \n",
    "    x = []\n",
    "    y = []\n",
    "    \n",
    "    nget = int(len(df)/N)\n",
    "    cols = df.columns[4:-21]\n",
    "    nspec = len(cols)\n",
    "    select_times = df[\"t(Myrs)\"].unique()[::nget]\n",
    "    for t in select_times:\n",
    "        xx = np.zeros(nspec)\n",
    "        yy = np.zeros(2*nspec)\n",
    "        grph =df[np.logical_and(df[\"t(Myrs)\"]==t,df[\"datatype\"]==\"graph\")][cols].iloc[0]\n",
    "        drv =  df[np.logical_and(df[\"t(Myrs)\"]==t,df[\"datatype\"]==\"deriv\")][cols].iloc[0]\n",
    "        \n",
    "        xx[:] = grph.values[:]\n",
    "        yy[:nspec] = grph.values[:]\n",
    "        yy[nspec:] = drv.values[:]\n",
    "        \n",
    "        x.append(xx)\n",
    "        y.append(yy)\n",
    "    return list(cols),select_times,x,y\n",
    "    \n",
    "\n",
    "def create_dataset(dirpath,N_per_model,test_size=0.3,val_size=0.3):\n",
    "\n",
    "    X = []\n",
    "    Y = []\n",
    "    \n",
    "    dirfiles = os.listdir(dirpath)\n",
    "    total_s =  len(dirfiles)*N_per_model\n",
    "    \n",
    "    print(\"{} lines for each of the {} models = {} samples\".format(N_per_model,len(dirfiles),total_s))\n",
    "    print(\"  {} samples for training\".format(int(total_s*(1-test_size)*(1-val_size))))\n",
    "    print(\"  {} samples for validating\".format(int(total_s*(1-test_size)*val_size)))\n",
    "    print(\"  {} samples for testing\".format(int(total_s*test_size)))\n",
    "    for i in range(len(dirfiles)):\n",
    "        filename = dirfiles[i]\n",
    "        if  filename.endswith(\".csv.gz\"):\n",
    "            \n",
    "            s = \"extracting {0} ... \".format(filename)\n",
    "            if i == len(dirfiles)-1:\n",
    "                s+='\\n'        \n",
    "            if i>0:\n",
    "                s = '\\r'+s\n",
    "            print(s, end='')\n",
    "\n",
    "            filepath = os.path.join(dirpath, filename)\n",
    "            data = pd.read_csv(filepath,compression=\"gzip\")\n",
    "            cols_,sel_t,x,y = get_vecs(data,N_per_model)\n",
    "            for i in range(len(x)):\n",
    "                X.append(x[i])\n",
    "                Y.append(y[i])\n",
    "    \n",
    "            \n",
    "        else:\n",
    "            continue\n",
    "    \n",
    "    print(\"Extraction completed. Splitting dataset...\")\n",
    "    X_train, X_test, y_train, y_test = train_test_split(X,Y,test_size=test_size)\n",
    "    X_train, X_val, y_train, y_val = train_test_split(X_train,y_train,test_size=val_size)\n",
    "    print (\"Done.\")\n",
    "    return {\"cols\":cols_,\"times\":sel_t,\"x_train\":X_train,\"x_val\":X_val,\"x_test\":X_test,\"y_train\":y_train,\"y_val\":y_val,\"y_test\":y_test}"
   ]
  },
  {
   "cell_type": "code",
   "execution_count": null,
   "metadata": {},
   "outputs": [
    {
     "name": "stdout",
     "output_type": "stream",
     "text": [
      "10 lines for each of the 150 models = 1500 samples\n",
      "  735 samples for training\n",
      "  315 samples for validating\n",
      "  450 samples for testing\n",
      "extracting nsample_1107_12.csv.gz ...  "
     ]
    }
   ],
   "source": [
    "dataset = create_dataset(sample_dir,10,0.3)"
   ]
  },
  {
   "cell_type": "code",
   "execution_count": null,
   "metadata": {},
   "outputs": [],
   "source": [
    "class autoencoder(nn.Module):\n",
    "    def __init__(self,lantent_dim):\n",
    "        super(autoencoder, self).__init__()\n",
    "        self.encoder = nn.Sequential(\n",
    "            nn.Linear(num_specs, 32),\n",
    "            nn.ReLU(True),\n",
    "            nn.Linear(32, 16),\n",
    "            nn.ReLU(True), \n",
    "            nn.Linear(16, 8), \n",
    "            nn.ReLU(True), \n",
    "            nn.Linear(8, latent_dim))\n",
    "        self.decoder = nn.Sequential(\n",
    "            nn.Linear(latent_dim, 8),\n",
    "            nn.ReLU(True),\n",
    "            nn.Linear(8, 16),\n",
    "            nn.ReLU(True),\n",
    "            nn.Linear(16, 32),\n",
    "            nn.ReLU(True), nn.Linear(32, 2*num_specs), nn.Tanh())\n",
    "\n",
    "    def forward(self, x):\n",
    "        x = self.encoder(x)\n",
    "        x = self.decoder(x)\n",
    "        return x\n"
   ]
  },
  {
   "cell_type": "code",
   "execution_count": null,
   "metadata": {},
   "outputs": [],
   "source": [
    "\n",
    "num_specs = len(dataset[\"cols\"])\n",
    "print(\"{} species\".format(num_specs))\n",
    "num_epochs = 100\n",
    "batch_size = 32\n",
    "learning_rate = 1e-3\n",
    "\n",
    "latent_dim = 5\n"
   ]
  },
  {
   "cell_type": "code",
   "execution_count": null,
   "metadata": {},
   "outputs": [],
   "source": [
    "\n",
    "\n",
    "model = autoencoder(latent_dim)\n",
    "criterion = nn.MSELoss()\n",
    "optimizer = torch.optim.Adam(\n",
    "    model.parameters(), lr=learning_rate, weight_decay=1e-3)\n",
    "\n",
    "for epoch in range(num_epochs):\n",
    "    for i in range(len(dataset[\"x_train\"])):\n",
    "        xvec = dataset[\"x_train\"][i]\n",
    "        yvec = dataset[\"y_train\"][i]\n",
    "        \n",
    "        \n",
    "        xvec = torch.from_numpy(xvec)\n",
    "        yvec = torch.from_numpy(yvec)\n",
    "        # ===================forward=====================\n",
    "        output = model(xvec.float())\n",
    "        loss = criterion(output, yvec.float())\n",
    "        # ===================backward====================\n",
    "        optimizer.zero_grad()\n",
    "        loss.backward()\n",
    "        optimizer.step()\n",
    "    # ===================log========================\n",
    "    print('epoch [{}/{}], loss:{:.4f}'.format(epoch + 1, num_epochs, loss.data.item()))\n",
    "\n",
    "torch.save(model.state_dict(), './sim_autoencoder.pth')"
   ]
  },
  {
   "cell_type": "code",
   "execution_count": null,
   "metadata": {},
   "outputs": [],
   "source": [
    "np.savez_compressed(\"dataset\",dataset)"
   ]
  },
  {
   "cell_type": "code",
   "execution_count": null,
   "metadata": {},
   "outputs": [],
   "source": []
  }
 ],
 "metadata": {
  "kernelspec": {
   "display_name": "Python 3",
   "language": "python",
   "name": "python3"
  },
  "language_info": {
   "codemirror_mode": {
    "name": "ipython",
    "version": 3
   },
   "file_extension": ".py",
   "mimetype": "text/x-python",
   "name": "python",
   "nbconvert_exporter": "python",
   "pygments_lexer": "ipython3",
   "version": "3.8.3"
  }
 },
 "nbformat": 4,
 "nbformat_minor": 4
}
