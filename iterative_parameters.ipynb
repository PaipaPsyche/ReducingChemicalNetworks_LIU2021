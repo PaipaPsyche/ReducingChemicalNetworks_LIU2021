{
 "cells": [
  {
   "cell_type": "code",
   "execution_count": 1,
   "metadata": {},
   "outputs": [],
   "source": [
    "import numpy as np\n",
    "import collections as cll\n",
    "import itertools as itr\n",
    "from decimal import Decimal"
   ]
  },
  {
   "cell_type": "code",
   "execution_count": 62,
   "metadata": {},
   "outputs": [
    {
     "data": {
      "text/plain": [
       "1e-05"
      ]
     },
     "execution_count": 62,
     "metadata": {},
     "output_type": "execute_result"
    }
   ],
   "source": [
    "float(\"1.00E-05\")"
   ]
  },
  {
   "cell_type": "code",
   "execution_count": 126,
   "metadata": {},
   "outputs": [],
   "source": [
    "def read_input(path):\n",
    "    param_values = {}\n",
    "    param_out = {}\n",
    "    \n",
    "    read_vals = False\n",
    "    with open(path,\"r\") as f:\n",
    "        while(True):\n",
    "            line = f.readline()\n",
    "            if not line:\n",
    "                break\n",
    "            if(line.startswith(\"---\")):\n",
    "                read_vals = True\n",
    "                continue\n",
    "            line = line.split(\":\")\n",
    "            name = line[0]\n",
    "            if(read_vals):\n",
    "                values = [float(x) for x in line[1].split()]\n",
    "                param_values[name] = values\n",
    "            else:\n",
    "                values = [x for x in line[1].split()]\n",
    "                param_out[name] = values\n",
    "    return param_out,param_values\n",
    "\n",
    "\n",
    "def edit_param_file(path,params,paramout,number=None,suff=\"Param\"):\n",
    "    lines = []\n",
    "    with open(path,\"r\") as f:\n",
    "        while(True):\n",
    "            line_ = f.readline()\n",
    "            if not line_:\n",
    "                break\n",
    "            if(line_.startswith(\"!\")):\n",
    "                lines.append(line_)\n",
    "                continue\n",
    "            line = line_.split(\"!\")\n",
    "            if(len(line)==1):\n",
    "                lines.append(line_)\n",
    "                continue\n",
    "            #print(line)\n",
    "            name = line[1].strip().split(\" \")[0].replace(\":\",\"\")\n",
    "            val = line[0]\n",
    "            if(name in list(params.keys())):\n",
    "                new_val = '%.2E' % Decimal(params[name])\n",
    "                sp_ = (len(val)-len(new_val))*\" \"\n",
    "            \n",
    "                new_line = new_val+sp_+\"!\"+line[1]\n",
    "                lines.append(new_line)\n",
    "            else:\n",
    "                lines.append(line_)\n",
    "                \n",
    "    \n",
    "    extn = path.split(\".\")[-1]\n",
    "    new_path = paramout[\"outdir\"][0]+paramout[\"outname\"][0]\n",
    "    if(number):\n",
    "        new_path = new_path+str(number)\n",
    "    new_path = new_path+\"_\"+suff+\".\"+extn\n",
    "    \n",
    "    with open(new_path,\"w\") as f:\n",
    "        for l in lines:\n",
    "            f.write(l)\n",
    "        #f.write(\"! -------- params file produced in batch:\")\n",
    "            \n",
    "            \n",
    "def replicate_file(path_template,path_input):\n",
    "    param_out,param_values = read_input(path_input)\n",
    "    scenarios = list( itr.product( *list( param_values.values() ) ) )\n",
    "    names = list( param_values.keys() )          \n",
    "    logg = []\n",
    "    for i in range(len(scenarios)):\n",
    "        sc  = {names[j]:scenarios[i][j] for j in range(len(names))}\n",
    "        edit_param_file(path_template,sc,param_out,number=i+1)\n",
    "        logg.append(\"Scenario {}\".format(i+1))\n",
    "        for elem in sc:\n",
    "            logg.append(\"  \"+elem+\" : \"+'%.2E' % Decimal(sc[elem]))\n",
    "        logg.append(\"--\"*10)\n",
    "        \n",
    "    with open(param_out[\"outdir\"][0]+\"log_\"+param_out[\"outname\"][0]+\".log\",\"w\") as lg:\n",
    "        for l in logg:\n",
    "            lg.write(l+\"\\n\")\n",
    "            \n",
    "    \n",
    "        \n",
    "    "
   ]
  },
  {
   "cell_type": "code",
   "execution_count": 5,
   "metadata": {},
   "outputs": [],
   "source": [
    "import iterative_params as ip\n",
    "ip.replicate_file(\"CHIMES_0.6/Data/TestCorr_Param.dat\",\"CHIMES_0.6/Data/input.in\")"
   ]
  },
  {
   "cell_type": "code",
   "execution_count": 4,
   "metadata": {},
   "outputs": [
    {
     "ename": "SyntaxError",
     "evalue": "invalid syntax (<ipython-input-4-867792ec6991>, line 1)",
     "output_type": "error",
     "traceback": [
      "\u001b[1;36m  File \u001b[1;32m\"<ipython-input-4-867792ec6991>\"\u001b[1;36m, line \u001b[1;32m1\u001b[0m\n\u001b[1;33m    from CHIMES_0.6 import iterative_params.py\u001b[0m\n\u001b[1;37m                 ^\u001b[0m\n\u001b[1;31mSyntaxError\u001b[0m\u001b[1;31m:\u001b[0m invalid syntax\n"
     ]
    }
   ],
   "source": []
  },
  {
   "cell_type": "code",
   "execution_count": 2,
   "metadata": {},
   "outputs": [
    {
     "data": {
      "text/plain": [
       "['888']"
      ]
     },
     "execution_count": 2,
     "metadata": {},
     "output_type": "execute_result"
    }
   ],
   "source": [
    "\"888\".split()"
   ]
  },
  {
   "cell_type": "code",
   "execution_count": 3,
   "metadata": {},
   "outputs": [],
   "source": [
    "a = [1,2,3,4,5]\n",
    "b = [\"1\",\"2\",\"3\",\"4\",\"5\"]\n",
    "\n",
    "ii = b==\"1\""
   ]
  },
  {
   "cell_type": "code",
   "execution_count": 4,
   "metadata": {},
   "outputs": [
    {
     "data": {
      "text/plain": [
       "1"
      ]
     },
     "execution_count": 4,
     "metadata": {},
     "output_type": "execute_result"
    }
   ],
   "source": [
    "a[ii]"
   ]
  },
  {
   "cell_type": "code",
   "execution_count": null,
   "metadata": {},
   "outputs": [],
   "source": []
  }
 ],
 "metadata": {
  "kernelspec": {
   "display_name": "Python 3",
   "language": "python",
   "name": "python3"
  },
  "language_info": {
   "codemirror_mode": {
    "name": "ipython",
    "version": 3
   },
   "file_extension": ".py",
   "mimetype": "text/x-python",
   "name": "python",
   "nbconvert_exporter": "python",
   "pygments_lexer": "ipython3",
   "version": "3.8.3"
  }
 },
 "nbformat": 4,
 "nbformat_minor": 4
}
